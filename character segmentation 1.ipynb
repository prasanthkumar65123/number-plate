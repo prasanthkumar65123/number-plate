{
  "nbformat": 4,
  "nbformat_minor": 0,
  "metadata": {
    "colab": {
      "name": "Untitled2.ipynb",
      "version": "0.3.2",
      "provenance": []
    },
    "kernelspec": {
      "name": "python3",
      "display_name": "Python 3"
    }
  },
  "cells": [
    {
      "cell_type": "code",
      "metadata": {
        "id": "3KOrOFroX6oW",
        "colab_type": "code",
        "colab": {}
      },
      "source": [
        "\n",
        "\tfrom skimage.io import imread\n",
        "from sk\tfrom skimage import measure\n",
        "from skimage.measure import regionprops\n",
        "\timport matplotlib.pyplot as plt\n",
        "\timport matplotlib.patches as patches\n",
        "\timport localization\n",
        "\t\n",
        "\n",
        "\t# this gets all the connected regions and groups them together\n",
        "\tlabel_image = measure.label(localization.binary_car_image)\n",
        "\tfig, (ax1) = plt.subplots(1)\n",
        "\tax1.imshow(localization.gray_car_image, cmap=\"gray\");\n",
        "\t\n",
        "\n",
        "\t# regionprops creates a list of properties of all the labelled regions\n",
        "\tfor region in regionprops(label_image):\n",
        "\t    if region.area < 50:\n",
        "\t        #if the region is so small then it's likely not a license plate\n",
        "\t        continue\n",
        "\t\n",
        "\n",
        "\t    # the bounding box coordinates\n",
        "\t    minRow, minCol, maxRow, maxCol = region.bbox\n",
        "\t    rectBorder = patches.Rectangle((minCol, minRow), maxCol-minCol, maxRow-minRow, edgecolor=\"red\", linewidth=2, fill=False)\n",
        "\t    ax1.add_patch(rectBorder)\n",
        "\t    # let's draw a red rectangle over those regions\n",
        "\t\n",
        "\n",
        "\tplt.show()\n",
        "\n",
        "\n",
        "image.filters import threshold_otsu\n",
        "\timport matplotlib.pyplot as plt\n",
        "\t\n",
        "\n",
        "\tcar_image = imread(\"car.json\", as_grey=True)\n",
        "\t# it should be a 2 dimensional array\n",
        "\tprint(car_image.shape)\n",
        "\t\n",
        "\n",
        "\t# the next line is not compulsory however, a grey scale pixel\n",
        "\t# in skimage ranges between 0 & 1. multiplying it with 255\n",
        "\t# will make it range between 0 & 255 (something we can relate better with\n",
        "\t\n",
        "\n",
        "\tgray_car_image = car_image * 255\n",
        "\tfig, (ax1, ax2) = plt.subplots(1, 2)\n",
        "\tax1.imshow(gray_car_image, cmap=\"gray\")\n",
        "\tthreshold_value = threshold_otsu(gray_car_image)\n",
        "\tbinary_car_image = gray_car_image > threshold_value\n",
        "\tax2.imshow(binary_car_image, cmap=\"gray\")\n",
        "\tplt.show()\n",
        "\n"
      ],
      "execution_count": 0,
      "outputs": []
    }
  ]
}